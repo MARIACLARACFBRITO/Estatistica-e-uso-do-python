{
  "nbformat": 4,
  "nbformat_minor": 0,
  "metadata": {
    "colab": {
      "provenance": [],
      "authorship_tag": "ABX9TyP5zxLaxb3asg/vOQAao+Nq",
      "include_colab_link": true
    },
    "kernelspec": {
      "name": "python3",
      "display_name": "Python 3"
    },
    "language_info": {
      "name": "python"
    }
  },
  "cells": [
    {
      "cell_type": "markdown",
      "metadata": {
        "id": "view-in-github",
        "colab_type": "text"
      },
      "source": [
        "<a href=\"https://colab.research.google.com/github/MARIACLARACFBRITO/Estatistica-e-uso-do-python/blob/develop/An%C3%A1lise%20Combinat%C3%B3ria/ExercicioProbabilidade.ipynb\" target=\"_parent\"><img src=\"https://colab.research.google.com/assets/colab-badge.svg\" alt=\"Open In Colab\"/></a>"
      ]
    },
    {
      "cell_type": "code",
      "execution_count": 72,
      "metadata": {
        "id": "CYQ4LGMTIikz"
      },
      "outputs": [],
      "source": [
        "import pandas as pd\n",
        "import numpy as np\n",
        "import matplotlib.pyplot as plt"
      ]
    },
    {
      "cell_type": "code",
      "source": [
        "import math\n",
        "from itertools import (product,permutations,combinations,\n",
        "                        combinations_with_replacement)\n",
        "from scipy.stats import binom"
      ],
      "metadata": {
        "id": "WpfcqtjGK4cI"
      },
      "execution_count": 73,
      "outputs": []
    },
    {
      "cell_type": "code",
      "source": [
        "#Exercício proposto\n",
        "#eu tenho 5 entrevistas de emprego\n",
        "#minha probabilidade de sucesso é 0.8\n",
        "#quais são as chances que eu tenho de passar em pelo menos uma delas"
      ],
      "metadata": {
        "id": "rj93r0apLTpM"
      },
      "execution_count": 74,
      "outputs": []
    },
    {
      "cell_type": "code",
      "source": [
        "#vou colocar um input para que a pessoa possa colocar quantas 'entrevistas ela quiser. E dessa forma os códigos vão atuar de acordo com o número de 'entrevistas ' desejado\n",
        "resposta='S'"
      ],
      "metadata": {
        "id": "YVnM3FzltUVj"
      },
      "execution_count": 75,
      "outputs": []
    },
    {
      "cell_type": "code",
      "source": [
        "lista=[]"
      ],
      "metadata": {
        "id": "6lE5JAv4LcLH"
      },
      "execution_count": 76,
      "outputs": []
    },
    {
      "cell_type": "code",
      "source": [
        "while resposta=='S':\n",
        "    entrevista=(input(\"Digite o nome das empresas cujas entrevistas foram agendadas: \"))\n",
        "    lista.append(entrevista)\n",
        "    resposta=input('Deseja acrescentar mais alguma empresa na a lista? EM caso afirmativo, digite \"S\".').upper()"
      ],
      "metadata": {
        "colab": {
          "base_uri": "https://localhost:8080/"
        },
        "id": "5MjadFYeszto",
        "outputId": "2ac7bc29-ae32-4640-d3a6-da71619d09d5"
      },
      "execution_count": 77,
      "outputs": [
        {
          "name": "stdout",
          "output_type": "stream",
          "text": [
            "Digite o nome das empresas cujas entrevistas foram agendadas: gatorade\n",
            "Deseja acrescentar mais alguma empresa na a lista? EM caso afirmativo, digite \"S\".s\n",
            "Digite o nome das empresas cujas entrevistas foram agendadas: nike\n",
            "Deseja acrescentar mais alguma empresa na a lista? EM caso afirmativo, digite \"S\".s\n",
            "Digite o nome das empresas cujas entrevistas foram agendadas: addidas\n",
            "Deseja acrescentar mais alguma empresa na a lista? EM caso afirmativo, digite \"S\".n\n"
          ]
        }
      ]
    },
    {
      "cell_type": "code",
      "source": [
        "lista"
      ],
      "metadata": {
        "colab": {
          "base_uri": "https://localhost:8080/"
        },
        "id": "n6cChXrhLmnx",
        "outputId": "00995841-8587-447b-9e8b-25fa1e1f45e8"
      },
      "execution_count": 78,
      "outputs": [
        {
          "output_type": "execute_result",
          "data": {
            "text/plain": [
              "['gatorade', 'nike', 'addidas']"
            ]
          },
          "metadata": {},
          "execution_count": 78
        }
      ]
    },
    {
      "cell_type": "code",
      "source": [
        " #função para calcular o número de combinações possíveis\n",
        " #n=número de entrevistas\n",
        " #k=quantidade de sucessos\n",
        " def fazer_combinacao(n,k,rep=True):\n",
        "   if rep==True:\n",
        "    return math.factorial(n+k-1)/(math.factorial(k)*math.factorial(n-1))\n",
        "   else:\n",
        "     return math.factorial(n)/(math.factorial(k)*math.factorial(n-k))"
      ],
      "metadata": {
        "id": "2KXU9k8zXv6V"
      },
      "execution_count": 79,
      "outputs": []
    },
    {
      "cell_type": "code",
      "source": [
        "#o indice serve para calcular cada sucesso desde 0 até o máximo de 'entrevistas'. Se houverem 3 entrevistas o parâmetro 'indice' vai se alterar de acordo.\n",
        "for indice in range(len(lista)+1):\n",
        "   print(f'As combinações possíveis caso você passe em {indice} entrevistas: {fazer_combinacao(len(lista),indice,False)}')"
      ],
      "metadata": {
        "colab": {
          "base_uri": "https://localhost:8080/"
        },
        "id": "e8Qxr8kFSljH",
        "outputId": "ccacdaea-058b-4b9d-e8e3-4025361fd684"
      },
      "execution_count": 80,
      "outputs": [
        {
          "output_type": "stream",
          "name": "stdout",
          "text": [
            "As combinações possíveis caso você passe em 0 entrevistas: 1.0\n",
            "As combinações possíveis caso você passe em 1 entrevistas: 3.0\n",
            "As combinações possíveis caso você passe em 2 entrevistas: 3.0\n",
            "As combinações possíveis caso você passe em 3 entrevistas: 1.0\n"
          ]
        }
      ]
    },
    {
      "cell_type": "code",
      "source": [
        "#p=probabilidade isolada de você passar em alguma entrevista -> para esse caso suponhamos que\n",
        "#a probabilidade de você passar em alguma entrevista seja 0,8\n",
        "#k=numero de sucessos\n",
        "# n=numero total de entrevistas\n",
        "def calcula_prob (p,k,n):\n",
        "   return (p**k*((1-p)**(n-k)))\n",
        "\n"
      ],
      "metadata": {
        "id": "DHct0yeAq9b9"
      },
      "execution_count": 81,
      "outputs": []
    },
    {
      "cell_type": "code",
      "source": [
        "for indice in range(0,len(lista)+1):\n",
        "  print(f'A probabilidade para {indice} sucessos é: {calcula_prob(0.8,indice,len(lista))}')\n"
      ],
      "metadata": {
        "colab": {
          "base_uri": "https://localhost:8080/"
        },
        "id": "--AlxISVxgoB",
        "outputId": "12f6bb9a-1bb7-4762-9e27-b86f3638e238"
      },
      "execution_count": 82,
      "outputs": [
        {
          "output_type": "stream",
          "name": "stdout",
          "text": [
            "A probabilidade para 0 sucessos é: 0.007999999999999995\n",
            "A probabilidade para 1 sucessos é: 0.03199999999999999\n",
            "A probabilidade para 2 sucessos é: 0.128\n",
            "A probabilidade para 3 sucessos é: 0.5120000000000001\n"
          ]
        }
      ]
    },
    {
      "cell_type": "code",
      "source": [
        "for indice in range(0,len(lista)+1):\n",
        "  print(f'As distribuições de probabilidades para {indice} sucessos é:  {fazer_combinacao(len(lista),indice,False)*calcula_prob(0.8,indice,len(lista))}')"
      ],
      "metadata": {
        "colab": {
          "base_uri": "https://localhost:8080/"
        },
        "id": "WpSORyyE2JsX",
        "outputId": "9c2ea2d9-9d1c-401f-bd6e-b9f5f796d98d"
      },
      "execution_count": 83,
      "outputs": [
        {
          "output_type": "stream",
          "name": "stdout",
          "text": [
            "As distribuições de probabilidades para 0 sucessos é:  0.007999999999999995\n",
            "As distribuições de probabilidades para 1 sucessos é:  0.09599999999999996\n",
            "As distribuições de probabilidades para 2 sucessos é:  0.384\n",
            "As distribuições de probabilidades para 3 sucessos é:  0.5120000000000001\n"
          ]
        }
      ]
    },
    {
      "cell_type": "code",
      "source": [
        "#agora quero verificar qual a probabilidade de eu passar entre 2 a 4 entrevistas:\n",
        "#Agora basta somar as distribuições de probabilidade desejadas:\n",
        "prob=[]\n",
        "n=range(int(input('Primeiro número: ')),int(input('Segundo número: ')))\n",
        "for indice in n:\n",
        " probabilidade_desejada=(fazer_combinacao(len(lista),indice,False)*calcula_prob(0.8,indice,len(lista)))\n",
        " prob.append(probabilidade_desejada)"
      ],
      "metadata": {
        "id": "EFOO0uRhlaxl",
        "colab": {
          "base_uri": "https://localhost:8080/"
        },
        "outputId": "0a54e5b4-26d3-40e3-bb1b-b003c8b94a7f"
      },
      "execution_count": 85,
      "outputs": [
        {
          "name": "stdout",
          "output_type": "stream",
          "text": [
            "Primeiro número: 1\n",
            "Segundo número: 2\n"
          ]
        }
      ]
    },
    {
      "cell_type": "code",
      "source": [
        "prob"
      ],
      "metadata": {
        "colab": {
          "base_uri": "https://localhost:8080/"
        },
        "id": "5cPdhYqg_dgx",
        "outputId": "12635a90-2d8e-4c86-8548-f80ea86af299"
      },
      "execution_count": 86,
      "outputs": [
        {
          "output_type": "execute_result",
          "data": {
            "text/plain": [
              "[0.09599999999999996]"
            ]
          },
          "metadata": {},
          "execution_count": 86
        }
      ]
    },
    {
      "cell_type": "code",
      "source": [
        "#a probabilidade de eu ser aprovada em 2 a 4 entrevistas é:\n",
        "sum(prob)"
      ],
      "metadata": {
        "colab": {
          "base_uri": "https://localhost:8080/"
        },
        "id": "HVdkWsqyucVd",
        "outputId": "9c47a462-0467-4c87-ab0e-dbb87ad58800"
      },
      "execution_count": 87,
      "outputs": [
        {
          "output_type": "execute_result",
          "data": {
            "text/plain": [
              "0.09599999999999996"
            ]
          },
          "metadata": {},
          "execution_count": 87
        }
      ]
    },
    {
      "cell_type": "markdown",
      "source": [
        "\n",
        "##Desenhar o gráfico de distribuição de probabilidade"
      ],
      "metadata": {
        "id": "0WhWyuNp8V4Y"
      }
    },
    {
      "cell_type": "code",
      "source": [
        "p=0.8"
      ],
      "metadata": {
        "id": "n0E0xfIE8Z9x"
      },
      "execution_count": 92,
      "outputs": []
    },
    {
      "cell_type": "code",
      "source": [
        "n_sucesso=range(len(lista)+1)"
      ],
      "metadata": {
        "id": "Sgbq76Lg9M5_"
      },
      "execution_count": 90,
      "outputs": []
    },
    {
      "cell_type": "code",
      "source": [
        "probabilidades=binom.pmf(p=p, n=len(lista), k= n_sucesso)"
      ],
      "metadata": {
        "id": "w5BEq6nO9oO6"
      },
      "execution_count": 91,
      "outputs": []
    },
    {
      "cell_type": "code",
      "source": [
        "df_probabilidade=pd.DataFrame(n_sucesso, columns=['sucesso'])"
      ],
      "metadata": {
        "id": "kg3Db2ht8jtt"
      },
      "execution_count": 93,
      "outputs": []
    },
    {
      "cell_type": "code",
      "source": [
        "df_probabilidade['probabilidade']=probabilidades"
      ],
      "metadata": {
        "id": "PMMzH8vDEQ0f"
      },
      "execution_count": 94,
      "outputs": []
    },
    {
      "cell_type": "code",
      "source": [
        "plt.bar(df_probabilidade['sucesso'],\n",
        "        df_probabilidade['probabilidade'], color='r')\n",
        "plt.plot(df_probabilidade['sucesso'],\n",
        "         df_probabilidade['probabilidade'], '--', color = 'black')\n",
        "plt.title(f'Distribuição de probabilidades de {len(lista)} tentantivas e {p*100}% de sucesso')"
      ],
      "metadata": {
        "colab": {
          "base_uri": "https://localhost:8080/",
          "height": 469
        },
        "id": "RG7R9LkqEX1p",
        "outputId": "0db7d840-ca99-46cf-e8cb-4092424009ae"
      },
      "execution_count": 95,
      "outputs": [
        {
          "output_type": "execute_result",
          "data": {
            "text/plain": [
              "Text(0.5, 1.0, 'Distribuição de probabilidades de 3 tentantivas e 80.0% de sucesso')"
            ]
          },
          "metadata": {},
          "execution_count": 95
        },
        {
          "output_type": "display_data",
          "data": {
            "text/plain": [
              "<Figure size 640x480 with 1 Axes>"
            ],
            "image/png": "[encoded data removed]"
          },
          "metadata": {}
        }
      ]
    }
  ]
}